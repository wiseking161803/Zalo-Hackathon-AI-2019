{
 "cells": [
  {
   "cell_type": "code",
   "execution_count": 65,
   "metadata": {},
   "outputs": [
    {
     "name": "stdout",
     "output_type": "stream",
     "text": [
      "Requirement already satisfied: pascal-voc-writer in /home/jupyter/.local/lib/python3.5/site-packages (0.1.4)\n",
      "Requirement already satisfied: jinja2 in /usr/local/lib/python3.5/dist-packages (from pascal-voc-writer) (2.10.3)\n",
      "Requirement already satisfied: MarkupSafe>=0.23 in /usr/local/lib/python3.5/dist-packages (from jinja2->pascal-voc-writer) (1.1.1)\n"
     ]
    }
   ],
   "source": [
    "# Using to convert a pascal voc xml file\n",
    "!pip install pascal-voc-writer --user\n",
    "from pascal_voc_writer import Writer"
   ]
  },
  {
   "cell_type": "code",
   "execution_count": 66,
   "metadata": {},
   "outputs": [],
   "source": [
    "# Need width, heigh and 4 positions\n",
    "writer = Writer('./images_test/001.jpg',466,350)\n",
    "writer.addObject('cat', 196, 55, 385, 314)\n",
    "writer.save('../csv_file/test.xml')"
   ]
  },
  {
   "cell_type": "markdown",
   "metadata": {},
   "source": [
    "# Xử lí file json ban đầu để xuất ra width, heigh và 4 vị trí box vào dataframe"
   ]
  },
  {
   "cell_type": "code",
   "execution_count": 112,
   "metadata": {},
   "outputs": [
    {
     "name": "stdout",
     "output_type": "stream",
     "text": [
      "       h  image_id    w    x    y\n",
      "0    599         0  447  388  130\n",
      "1    266         1  209  174   52\n",
      "2    341         2  277  245   85\n",
      "3    727         3  914  115   68\n",
      "4    347         4  277  208   13\n",
      "..   ...       ...  ...  ...  ...\n",
      "907  272       797  215   44   27\n",
      "908  299       798  266   19    0\n",
      "909  328       799  285  204   71\n",
      "910    0       913    0  104   75\n",
      "911   54      2510   54  220  227\n",
      "\n",
      "[912 rows x 5 columns]\n"
     ]
    }
   ],
   "source": [
    "import json\n",
    "from pandas import DataFrame\n",
    "\n",
    "# read file\n",
    "with open('../model/ninedash_keypoints_train.json', 'r') as myfile:\n",
    "    data=myfile.read()\n",
    "    \n",
    "obj = json.loads(data)\n",
    "annotations = []\n",
    "images = []\n",
    "\n",
    "for i in range(len(obj[\"annotations\"])):\n",
    "    temp = {\"image_id\": obj[\"annotations\"][i][\"image_id\"],\n",
    "            'x': obj[\"annotations\"][i][\"bbox\"][0],\n",
    "            'y': obj[\"annotations\"][i][\"bbox\"][1],\n",
    "            'w': obj[\"annotations\"][i][\"bbox\"][2],\n",
    "            'h': obj[\"annotations\"][i][\"bbox\"][3]\n",
    "            }\n",
    "    annotations.append(temp)\n",
    "\n",
    "for i in range(len(obj[\"images\"])):\n",
    "    temp = {\"id\": obj[\"images\"][i][\"id\"],\n",
    "           \"height\": obj[\"images\"][i][\"height\"],\n",
    "            \"width\": obj[\"images\"][i][\"width\"]\n",
    "           }\n",
    "    images.append(temp)\n",
    "    \n",
    "#print(annotations)\n",
    "#print(images)\n",
    "print(DataFrame(annotations))\n",
    "\n",
    "DataFrame(annotations).to_csv(\"../csv_file/annotations.csv\", index=False)\n",
    "DataFrame(images).to_csv(\"../csv_file/images.csv\", index=False)"
   ]
  },
  {
   "cell_type": "code",
   "execution_count": 113,
   "metadata": {},
   "outputs": [],
   "source": [
    "import pandas as pd\n",
    "anno = pd.DataFrame(annotations)\n",
    "imgid = pd.DataFrame(images)"
   ]
  },
  {
   "cell_type": "code",
   "execution_count": 114,
   "metadata": {},
   "outputs": [],
   "source": [
    "anno = anno.rename(columns={'image_id':'id'})"
   ]
  },
  {
   "cell_type": "code",
   "execution_count": 115,
   "metadata": {},
   "outputs": [],
   "source": [
    "df = pd.merge(anno,imgid,on='id')"
   ]
  },
  {
   "cell_type": "code",
   "execution_count": 116,
   "metadata": {},
   "outputs": [
    {
     "data": {
      "text/html": [
       "<div>\n",
       "<style scoped>\n",
       "    .dataframe tbody tr th:only-of-type {\n",
       "        vertical-align: middle;\n",
       "    }\n",
       "\n",
       "    .dataframe tbody tr th {\n",
       "        vertical-align: top;\n",
       "    }\n",
       "\n",
       "    .dataframe thead th {\n",
       "        text-align: right;\n",
       "    }\n",
       "</style>\n",
       "<table border=\"1\" class=\"dataframe\">\n",
       "  <thead>\n",
       "    <tr style=\"text-align: right;\">\n",
       "      <th></th>\n",
       "      <th>h</th>\n",
       "      <th>id</th>\n",
       "      <th>w</th>\n",
       "      <th>x</th>\n",
       "      <th>y</th>\n",
       "      <th>height</th>\n",
       "      <th>width</th>\n",
       "    </tr>\n",
       "  </thead>\n",
       "  <tbody>\n",
       "    <tr>\n",
       "      <th>0</th>\n",
       "      <td>599</td>\n",
       "      <td>0</td>\n",
       "      <td>447</td>\n",
       "      <td>388</td>\n",
       "      <td>130</td>\n",
       "      <td>796</td>\n",
       "      <td>1000</td>\n",
       "    </tr>\n",
       "    <tr>\n",
       "      <th>1</th>\n",
       "      <td>266</td>\n",
       "      <td>1</td>\n",
       "      <td>209</td>\n",
       "      <td>174</td>\n",
       "      <td>52</td>\n",
       "      <td>350</td>\n",
       "      <td>466</td>\n",
       "    </tr>\n",
       "    <tr>\n",
       "      <th>2</th>\n",
       "      <td>341</td>\n",
       "      <td>2</td>\n",
       "      <td>277</td>\n",
       "      <td>245</td>\n",
       "      <td>85</td>\n",
       "      <td>473</td>\n",
       "      <td>622</td>\n",
       "    </tr>\n",
       "    <tr>\n",
       "      <th>3</th>\n",
       "      <td>727</td>\n",
       "      <td>3</td>\n",
       "      <td>914</td>\n",
       "      <td>115</td>\n",
       "      <td>68</td>\n",
       "      <td>800</td>\n",
       "      <td>1200</td>\n",
       "    </tr>\n",
       "    <tr>\n",
       "      <th>4</th>\n",
       "      <td>347</td>\n",
       "      <td>4</td>\n",
       "      <td>277</td>\n",
       "      <td>208</td>\n",
       "      <td>13</td>\n",
       "      <td>361</td>\n",
       "      <td>490</td>\n",
       "    </tr>\n",
       "    <tr>\n",
       "      <th>...</th>\n",
       "      <td>...</td>\n",
       "      <td>...</td>\n",
       "      <td>...</td>\n",
       "      <td>...</td>\n",
       "      <td>...</td>\n",
       "      <td>...</td>\n",
       "      <td>...</td>\n",
       "    </tr>\n",
       "    <tr>\n",
       "      <th>907</th>\n",
       "      <td>272</td>\n",
       "      <td>797</td>\n",
       "      <td>215</td>\n",
       "      <td>44</td>\n",
       "      <td>27</td>\n",
       "      <td>300</td>\n",
       "      <td>260</td>\n",
       "    </tr>\n",
       "    <tr>\n",
       "      <th>908</th>\n",
       "      <td>299</td>\n",
       "      <td>798</td>\n",
       "      <td>266</td>\n",
       "      <td>19</td>\n",
       "      <td>0</td>\n",
       "      <td>300</td>\n",
       "      <td>318</td>\n",
       "    </tr>\n",
       "    <tr>\n",
       "      <th>909</th>\n",
       "      <td>328</td>\n",
       "      <td>799</td>\n",
       "      <td>285</td>\n",
       "      <td>204</td>\n",
       "      <td>71</td>\n",
       "      <td>400</td>\n",
       "      <td>600</td>\n",
       "    </tr>\n",
       "    <tr>\n",
       "      <th>910</th>\n",
       "      <td>0</td>\n",
       "      <td>913</td>\n",
       "      <td>0</td>\n",
       "      <td>104</td>\n",
       "      <td>75</td>\n",
       "      <td>180</td>\n",
       "      <td>250</td>\n",
       "    </tr>\n",
       "    <tr>\n",
       "      <th>911</th>\n",
       "      <td>54</td>\n",
       "      <td>2510</td>\n",
       "      <td>54</td>\n",
       "      <td>220</td>\n",
       "      <td>227</td>\n",
       "      <td>350</td>\n",
       "      <td>350</td>\n",
       "    </tr>\n",
       "  </tbody>\n",
       "</table>\n",
       "<p>912 rows × 7 columns</p>\n",
       "</div>"
      ],
      "text/plain": [
       "       h    id    w    x    y  height  width\n",
       "0    599     0  447  388  130     796   1000\n",
       "1    266     1  209  174   52     350    466\n",
       "2    341     2  277  245   85     473    622\n",
       "3    727     3  914  115   68     800   1200\n",
       "4    347     4  277  208   13     361    490\n",
       "..   ...   ...  ...  ...  ...     ...    ...\n",
       "907  272   797  215   44   27     300    260\n",
       "908  299   798  266   19    0     300    318\n",
       "909  328   799  285  204   71     400    600\n",
       "910    0   913    0  104   75     180    250\n",
       "911   54  2510   54  220  227     350    350\n",
       "\n",
       "[912 rows x 7 columns]"
      ]
     },
     "execution_count": 116,
     "metadata": {},
     "output_type": "execute_result"
    }
   ],
   "source": [
    "df"
   ]
  },
  {
   "cell_type": "markdown",
   "metadata": {},
   "source": [
    "# Chạy vòng lặp để tạo file xml dạng pascal voc\n"
   ]
  },
  {
   "cell_type": "code",
   "execution_count": 88,
   "metadata": {},
   "outputs": [
    {
     "data": {
      "text/plain": [
       "[388, 130, 447, 599]"
      ]
     },
     "execution_count": 88,
     "metadata": {},
     "output_type": "execute_result"
    }
   ],
   "source": [
    "df['bbox'][0]"
   ]
  },
  {
   "cell_type": "code",
   "execution_count": 92,
   "metadata": {},
   "outputs": [],
   "source": [
    "for i in range(len(obj[\"annotations\"])):\n",
    "    temp = {\"image_id\": obj[\"annotations\"][i][\"image_id\"],\n",
    "           'bbox': obj[\"annotations\"][i][\"bbox\"][0]\n",
    "           }"
   ]
  },
  {
   "cell_type": "code",
   "execution_count": 93,
   "metadata": {},
   "outputs": [
    {
     "data": {
      "text/plain": [
       "{'bbox': 220, 'image_id': 2510}"
      ]
     },
     "execution_count": 93,
     "metadata": {},
     "output_type": "execute_result"
    }
   ],
   "source": [
    "temp"
   ]
  },
  {
   "cell_type": "code",
   "execution_count": 110,
   "metadata": {},
   "outputs": [],
   "source": [
    "for i in range(len(obj[\"annotations\"])):\n",
    "    temp = {\"image_id\": obj[\"annotations\"][i][\"image_id\"],\n",
    "            'x': obj[\"annotations\"][i][\"bbox\"][0],\n",
    "            'y': obj[\"annotations\"][i][\"bbox\"][1],\n",
    "            'w': obj[\"annotations\"][i][\"bbox\"][2],\n",
    "            'h': obj[\"annotations\"][i][\"bbox\"][3]\n",
    "            }"
   ]
  },
  {
   "cell_type": "code",
   "execution_count": 111,
   "metadata": {},
   "outputs": [
    {
     "data": {
      "text/plain": [
       "{'h': 54, 'image_id': 2510, 'w': 54, 'x': 220, 'y': 227}"
      ]
     },
     "execution_count": 111,
     "metadata": {},
     "output_type": "execute_result"
    }
   ],
   "source": [
    "temp"
   ]
  },
  {
   "cell_type": "code",
   "execution_count": 107,
   "metadata": {},
   "outputs": [
    {
     "ename": "SyntaxError",
     "evalue": "invalid syntax (<ipython-input-107-cfeacceec53f>, line 1)",
     "output_type": "error",
     "traceback": [
      "\u001b[0;36m  File \u001b[0;32m\"<ipython-input-107-cfeacceec53f>\"\u001b[0;36m, line \u001b[0;32m1\u001b[0m\n\u001b[0;31m    'bbox': obj[\"annotations\"][i][\"bbox\"][3]\u001b[0m\n\u001b[0m          ^\u001b[0m\n\u001b[0;31mSyntaxError\u001b[0m\u001b[0;31m:\u001b[0m invalid syntax\n"
     ]
    }
   ],
   "source": []
  },
  {
   "cell_type": "code",
   "execution_count": null,
   "metadata": {},
   "outputs": [],
   "source": []
  }
 ],
 "metadata": {
  "kernelspec": {
   "display_name": "Python 3",
   "language": "python",
   "name": "python3"
  },
  "language_info": {
   "codemirror_mode": {
    "name": "ipython",
    "version": 3
   },
   "file_extension": ".py",
   "mimetype": "text/x-python",
   "name": "python",
   "nbconvert_exporter": "python",
   "pygments_lexer": "ipython3",
   "version": "3.5.3"
  }
 },
 "nbformat": 4,
 "nbformat_minor": 4
}
