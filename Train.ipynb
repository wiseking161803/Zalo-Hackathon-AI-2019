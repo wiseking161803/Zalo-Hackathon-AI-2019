{
 "cells": [
  {
   "cell_type": "code",
   "execution_count": 1,
   "metadata": {},
   "outputs": [
    {
     "name": "stdout",
     "output_type": "stream",
     "text": [
      "Requirement already satisfied: tensorflow-gpu==1.13.1 in ./.local/lib/python3.5/site-packages (1.13.1)\n",
      "Requirement already satisfied: tensorboard<1.14.0,>=1.13.0 in ./.local/lib/python3.5/site-packages (from tensorflow-gpu==1.13.1) (1.13.1)\n",
      "Requirement already satisfied: six>=1.10.0 in /usr/local/lib/python3.5/dist-packages (from tensorflow-gpu==1.13.1) (1.13.0)\n",
      "Requirement already satisfied: absl-py>=0.1.6 in /usr/local/lib/python3.5/dist-packages (from tensorflow-gpu==1.13.1) (0.8.1)\n",
      "Requirement already satisfied: tensorflow-estimator<1.14.0rc0,>=1.13.0 in ./.local/lib/python3.5/site-packages (from tensorflow-gpu==1.13.1) (1.13.0)\n",
      "Requirement already satisfied: numpy>=1.13.3 in ./.local/lib/python3.5/site-packages (from tensorflow-gpu==1.13.1) (1.17.4)\n",
      "Requirement already satisfied: termcolor>=1.1.0 in /usr/local/lib/python3.5/dist-packages (from tensorflow-gpu==1.13.1) (1.1.0)\n",
      "Requirement already satisfied: keras-preprocessing>=1.0.5 in /usr/local/lib/python3.5/dist-packages (from tensorflow-gpu==1.13.1) (1.1.0)\n",
      "Requirement already satisfied: protobuf>=3.6.1 in /usr/local/lib/python3.5/dist-packages (from tensorflow-gpu==1.13.1) (3.10.0)\n",
      "Requirement already satisfied: astor>=0.6.0 in /usr/local/lib/python3.5/dist-packages (from tensorflow-gpu==1.13.1) (0.8.0)\n",
      "Requirement already satisfied: grpcio>=1.8.6 in /usr/local/lib/python3.5/dist-packages (from tensorflow-gpu==1.13.1) (1.25.0)\n",
      "Requirement already satisfied: gast>=0.2.0 in /usr/local/lib/python3.5/dist-packages (from tensorflow-gpu==1.13.1) (0.2.2)\n",
      "Requirement already satisfied: keras-applications>=1.0.6 in /usr/local/lib/python3.5/dist-packages (from tensorflow-gpu==1.13.1) (1.0.8)\n",
      "Requirement already satisfied: wheel>=0.26 in ./.local/lib/python3.5/site-packages (from tensorflow-gpu==1.13.1) (0.33.6)\n",
      "Requirement already satisfied: markdown>=2.6.8 in /usr/local/lib/python3.5/dist-packages (from tensorboard<1.14.0,>=1.13.0->tensorflow-gpu==1.13.1) (3.1.1)\n",
      "Requirement already satisfied: werkzeug>=0.11.15 in /usr/local/lib/python3.5/dist-packages (from tensorboard<1.14.0,>=1.13.0->tensorflow-gpu==1.13.1) (0.16.0)\n",
      "Requirement already satisfied: mock>=2.0.0 in /usr/local/lib/python3.5/dist-packages (from tensorflow-estimator<1.14.0rc0,>=1.13.0->tensorflow-gpu==1.13.1) (3.0.5)\n",
      "Requirement already satisfied: setuptools in ./.local/lib/python3.5/site-packages (from protobuf>=3.6.1->tensorflow-gpu==1.13.1) (42.0.2)\n",
      "Requirement already satisfied: h5py in /usr/local/lib/python3.5/dist-packages (from keras-applications>=1.0.6->tensorflow-gpu==1.13.1) (2.10.0)\n"
     ]
    }
   ],
   "source": [
    "!pip3 install tensorflow-gpu==1.13.1 --user\n",
    "!pip3 install imageai --upgrade --user"
   ]
  },
  {
   "cell_type": "code",
   "execution_count": 1,
   "metadata": {},
   "outputs": [
    {
     "name": "stderr",
     "output_type": "stream",
     "text": [
      "/home/jupyter/.local/lib/python3.5/site-packages/tensorflow/python/framework/dtypes.py:526: FutureWarning: Passing (type, 1) or '1type' as a synonym of type is deprecated; in a future version of numpy, it will be understood as (type, (1,)) / '(1,)type'.\n",
      "  _np_qint8 = np.dtype([(\"qint8\", np.int8, 1)])\n",
      "/home/jupyter/.local/lib/python3.5/site-packages/tensorflow/python/framework/dtypes.py:527: FutureWarning: Passing (type, 1) or '1type' as a synonym of type is deprecated; in a future version of numpy, it will be understood as (type, (1,)) / '(1,)type'.\n",
      "  _np_quint8 = np.dtype([(\"quint8\", np.uint8, 1)])\n",
      "/home/jupyter/.local/lib/python3.5/site-packages/tensorflow/python/framework/dtypes.py:528: FutureWarning: Passing (type, 1) or '1type' as a synonym of type is deprecated; in a future version of numpy, it will be understood as (type, (1,)) / '(1,)type'.\n",
      "  _np_qint16 = np.dtype([(\"qint16\", np.int16, 1)])\n",
      "/home/jupyter/.local/lib/python3.5/site-packages/tensorflow/python/framework/dtypes.py:529: FutureWarning: Passing (type, 1) or '1type' as a synonym of type is deprecated; in a future version of numpy, it will be understood as (type, (1,)) / '(1,)type'.\n",
      "  _np_quint16 = np.dtype([(\"quint16\", np.uint16, 1)])\n",
      "/home/jupyter/.local/lib/python3.5/site-packages/tensorflow/python/framework/dtypes.py:530: FutureWarning: Passing (type, 1) or '1type' as a synonym of type is deprecated; in a future version of numpy, it will be understood as (type, (1,)) / '(1,)type'.\n",
      "  _np_qint32 = np.dtype([(\"qint32\", np.int32, 1)])\n",
      "/home/jupyter/.local/lib/python3.5/site-packages/tensorflow/python/framework/dtypes.py:535: FutureWarning: Passing (type, 1) or '1type' as a synonym of type is deprecated; in a future version of numpy, it will be understood as (type, (1,)) / '(1,)type'.\n",
      "  np_resource = np.dtype([(\"resource\", np.ubyte, 1)])\n"
     ]
    }
   ],
   "source": [
    "import tensorflow as tf\n",
    "tf.to_float = lambda x: tf.cast(x, tf.float32)"
   ]
  },
  {
   "cell_type": "code",
   "execution_count": null,
   "metadata": {},
   "outputs": [
    {
     "name": "stdout",
     "output_type": "stream",
     "text": [
      "Generating anchor boxes for training images and annotation...\n",
      "Average IOU for 9 anchors: 0.80\n",
      "Anchor Boxes generated.\n",
      "Detection configuration saved in  luoibo/json/detection_config.json\n",
      "Training on: \t['1']\n",
      "Training with Batch Size:  16\n",
      "Number of Experiments:  3\n",
      "Training with transfer learning from pretrained Model\n"
     ]
    },
    {
     "name": "stderr",
     "output_type": "stream",
     "text": [
      "/usr/local/lib/python3.5/dist-packages/keras/callbacks/callbacks.py:998: UserWarning: `epsilon` argument is deprecated and will be removed, use `min_delta` instead.\n",
      "  warnings.warn('`epsilon` argument is deprecated and '\n"
     ]
    }
   ],
   "source": [
    "from imageai.Detection.Custom import DetectionModelTrainer\n",
    "\n",
    "trainer = DetectionModelTrainer()\n",
    "trainer.setModelTypeAsYOLOv3()\n",
    "trainer.setDataDirectory(data_directory=\"luoibo\")\n",
    "trainer.setTrainConfig(object_names_array=[\"1\"], batch_size=16, num_experiments=3, train_from_pretrained_model=\"./luoibo/models/detection_model-ex-002--loss-0008.069.h5\")\n",
    "trainer.trainModel()"
   ]
  },
  {
   "cell_type": "code",
   "execution_count": 3,
   "metadata": {},
   "outputs": [
    {
     "name": "stdout",
     "output_type": "stream",
     "text": [
      "Starting Model evaluation....\n",
      "skipping the evaluation of ./luoibo/models/.ipynb_checkpoints since it's not a .h5 file\n"
     ]
    },
    {
     "name": "stderr",
     "output_type": "stream",
     "text": [
      "/usr/local/lib/python3.5/dist-packages/keras/engine/saving.py:341: UserWarning: No training configuration found in save file: the model was *not* compiled. Compile it manually.\n",
      "  warnings.warn('No training configuration found in save file: '\n"
     ]
    },
    {
     "name": "stdout",
     "output_type": "stream",
     "text": [
      "Model File:  ./luoibo/models/detection_model-ex-001--loss-0012.071.h5 \n",
      "\n",
      "Using IoU :  0.5\n",
      "Using Object Threshold :  0.3\n",
      "Using Non-Maximum Suppression :  0.5\n",
      "1: 0.8954\n",
      "mAP: 0.8954\n",
      "===============================\n",
      "Model File:  ./luoibo/models/detection_model-ex-002--loss-0008.069.h5 \n",
      "\n",
      "Using IoU :  0.5\n",
      "Using Object Threshold :  0.3\n",
      "Using Non-Maximum Suppression :  0.5\n",
      "1: 0.9334\n",
      "mAP: 0.9334\n",
      "===============================\n",
      "Model File:  ./luoibo/models/detection_model-ex-003--loss-0007.121.h5 \n",
      "\n",
      "Using IoU :  0.5\n",
      "Using Object Threshold :  0.3\n",
      "Using Non-Maximum Suppression :  0.5\n",
      "1: 0.9081\n",
      "mAP: 0.9081\n",
      "===============================\n",
      "Model File:  ./luoibo/models/detection_model-ex-005--loss-0007.004.h5 \n",
      "\n",
      "Using IoU :  0.5\n",
      "Using Object Threshold :  0.3\n",
      "Using Non-Maximum Suppression :  0.5\n",
      "1: 0.9139\n",
      "mAP: 0.9139\n",
      "===============================\n",
      "Model File:  ./luoibo/models/detection_model-ex-008--loss-0006.714.h5 \n",
      "\n",
      "Using IoU :  0.5\n",
      "Using Object Threshold :  0.3\n",
      "Using Non-Maximum Suppression :  0.5\n",
      "1: 0.6879\n",
      "mAP: 0.6879\n",
      "===============================\n"
     ]
    },
    {
     "data": {
      "text/plain": [
       "[{'average_precision': {'1': 0.8954147730900578},\n",
       "  'map': 0.8954147730900578,\n",
       "  'model_file': './luoibo/models/detection_model-ex-001--loss-0012.071.h5',\n",
       "  'using_iou': 0.5,\n",
       "  'using_non_maximum_suppression': 0.5,\n",
       "  'using_object_threshold': 0.3},\n",
       " {'average_precision': {'1': 0.9334004647321325},\n",
       "  'map': 0.9334004647321325,\n",
       "  'model_file': './luoibo/models/detection_model-ex-002--loss-0008.069.h5',\n",
       "  'using_iou': 0.5,\n",
       "  'using_non_maximum_suppression': 0.5,\n",
       "  'using_object_threshold': 0.3},\n",
       " {'average_precision': {'1': 0.9081433165917707},\n",
       "  'map': 0.9081433165917707,\n",
       "  'model_file': './luoibo/models/detection_model-ex-003--loss-0007.121.h5',\n",
       "  'using_iou': 0.5,\n",
       "  'using_non_maximum_suppression': 0.5,\n",
       "  'using_object_threshold': 0.3},\n",
       " {'average_precision': {'1': 0.9139400762532748},\n",
       "  'map': 0.9139400762532748,\n",
       "  'model_file': './luoibo/models/detection_model-ex-005--loss-0007.004.h5',\n",
       "  'using_iou': 0.5,\n",
       "  'using_non_maximum_suppression': 0.5,\n",
       "  'using_object_threshold': 0.3},\n",
       " {'average_precision': {'1': 0.6879045435767391},\n",
       "  'map': 0.6879045435767391,\n",
       "  'model_file': './luoibo/models/detection_model-ex-008--loss-0006.714.h5',\n",
       "  'using_iou': 0.5,\n",
       "  'using_non_maximum_suppression': 0.5,\n",
       "  'using_object_threshold': 0.3}]"
      ]
     },
     "execution_count": 3,
     "metadata": {},
     "output_type": "execute_result"
    }
   ],
   "source": [
    "from imageai.Detection.Custom import DetectionModelTrainer\n",
    "\n",
    "trainer = DetectionModelTrainer()\n",
    "trainer.setModelTypeAsYOLOv3()\n",
    "trainer.setDataDirectory(data_directory=\"luoibo\")\n",
    "trainer.evaluateModel(model_path=\"./luoibo/models\", json_path=\"./luoibo/json/detection_config.json\", iou_threshold=0.5, object_threshold=0.3, nms_threshold=0.5)\n"
   ]
  },
  {
   "cell_type": "code",
   "execution_count": 4,
   "metadata": {},
   "outputs": [],
   "source": [
    "# detections = detector.detectObjectsFromImage(input_image=\"./images_test/017.jpg\", output_image_path=\"./holo5-detected.jpg\")\n",
    "# for detection in detections:\n",
    "#     print(detection[\"cat\"], \" : \", detection[\"percentage_probability\"], \" : \", detection[\"box_points\"])"
   ]
  },
  {
   "cell_type": "code",
   "execution_count": null,
   "metadata": {},
   "outputs": [],
   "source": []
  }
 ],
 "metadata": {
  "kernelspec": {
   "display_name": "Python 3",
   "language": "python",
   "name": "python3"
  },
  "language_info": {
   "codemirror_mode": {
    "name": "ipython",
    "version": 3
   },
   "file_extension": ".py",
   "mimetype": "text/x-python",
   "name": "python",
   "nbconvert_exporter": "python",
   "pygments_lexer": "ipython3",
   "version": "3.5.3"
  }
 },
 "nbformat": 4,
 "nbformat_minor": 4
}
